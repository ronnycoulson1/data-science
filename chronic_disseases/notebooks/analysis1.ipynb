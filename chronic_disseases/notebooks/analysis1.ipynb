{
 "cells": [
  {
   "cell_type": "code",
   "id": "initial_id",
   "metadata": {
    "collapsed": true,
    "ExecuteTime": {
     "end_time": "2025-10-19T19:46:06.905947Z",
     "start_time": "2025-10-19T19:46:06.903405Z"
    }
   },
   "source": [
    "### **Phase 1 — Data Preparation**\n",
    "#TODO:\n",
    "##1. Load the dataset into a DataFrame. -> done\n",
    "##2. Inspect the data’s shape, column names, and missing values. -> done\n",
    "##3. Clean the data:\n",
    "##   - Remove irrelevant or empty rows and columns. ->done\n",
    "##   - Convert `DataValue` and other numeric fields into proper numerical types.\n",
    "##   - Rename or simplify columns for clarity. -->done"
   ],
   "outputs": [],
   "execution_count": 186
  },
  {
   "metadata": {
    "ExecuteTime": {
     "end_time": "2025-10-19T19:46:07.453775Z",
     "start_time": "2025-10-19T19:46:07.451272Z"
    }
   },
   "cell_type": "code",
   "source": [
    "import pandas as pd\n",
    "import numpy as np\n",
    "import matplotlib.pyplot as plt"
   ],
   "id": "33f3072c387d3113",
   "outputs": [],
   "execution_count": 187
  },
  {
   "metadata": {
    "ExecuteTime": {
     "end_time": "2025-10-19T19:47:46.934373Z",
     "start_time": "2025-10-19T19:47:46.921127Z"
    }
   },
   "cell_type": "code",
   "source": [
    "import os\n",
    "print(os.getcwd())          # shows your current working directory\n",
    "print(os.listdir(\"../data\"))  # lists files inside the data folder\n",
    "\n",
    "pd.read_csv(\"../data/U.S._Chronic_Disease_Indicators.csv\")"
   ],
   "id": "b42bfa940b59ca36",
   "outputs": [
    {
     "ename": "FileNotFoundError",
     "evalue": "[Errno 2] No such file or directory",
     "output_type": "error",
     "traceback": [
      "\u001B[0;31m---------------------------------------------------------------------------\u001B[0m",
      "\u001B[0;31mFileNotFoundError\u001B[0m                         Traceback (most recent call last)",
      "Cell \u001B[0;32mIn[194], line 2\u001B[0m\n\u001B[1;32m      1\u001B[0m \u001B[38;5;28;01mimport\u001B[39;00m\u001B[38;5;250m \u001B[39m\u001B[38;5;21;01mos\u001B[39;00m\n\u001B[0;32m----> 2\u001B[0m \u001B[38;5;28mprint\u001B[39m(\u001B[43mos\u001B[49m\u001B[38;5;241;43m.\u001B[39;49m\u001B[43mgetcwd\u001B[49m\u001B[43m(\u001B[49m\u001B[43m)\u001B[49m)          \u001B[38;5;66;03m# shows your current working directory\u001B[39;00m\n\u001B[1;32m      3\u001B[0m \u001B[38;5;28mprint\u001B[39m(os\u001B[38;5;241m.\u001B[39mlistdir(\u001B[38;5;124m\"\u001B[39m\u001B[38;5;124m../data\u001B[39m\u001B[38;5;124m\"\u001B[39m))  \u001B[38;5;66;03m# lists files inside the data folder\u001B[39;00m\n\u001B[1;32m      5\u001B[0m pd\u001B[38;5;241m.\u001B[39mread_csv(\u001B[38;5;124m\"\u001B[39m\u001B[38;5;124m../data/U.S._Chronic_Disease_Indicators.csv\u001B[39m\u001B[38;5;124m\"\u001B[39m)\n",
      "\u001B[0;31mFileNotFoundError\u001B[0m: [Errno 2] No such file or directory"
     ]
    }
   ],
   "execution_count": 194
  },
  {
   "metadata": {
    "ExecuteTime": {
     "end_time": "2025-10-19T19:47:47.596272Z",
     "start_time": "2025-10-19T19:47:47.585504Z"
    }
   },
   "cell_type": "code",
   "source": "df.head() #",
   "id": "c682ddc2ea92b2c3",
   "outputs": [
    {
     "data": {
      "text/plain": [
       "   YearStart  YearEnd LocationAbbr   LocationDesc     DataSource  \\\n",
       "0       2020     2020           US  United States          BRFSS   \n",
       "1       2015     2019           AR       Arkansas  US Cancer DVT   \n",
       "2       2015     2019           CA     California  US Cancer DVT   \n",
       "3       2015     2019           CO       Colorado  US Cancer DVT   \n",
       "4       2015     2019           GA        Georgia  US Cancer DVT   \n",
       "\n",
       "           Topic                                           Question  Response  \\\n",
       "0  Health Status            Recent activity limitation among adults       NaN   \n",
       "1         Cancer    Invasive cancer (all sites combined), incidence       NaN   \n",
       "2         Cancer  Cervical cancer mortality among all females, u...       NaN   \n",
       "3         Cancer    Invasive cancer (all sites combined), incidence       NaN   \n",
       "4         Cancer  Prostate cancer mortality among all males, und...       NaN   \n",
       "\n",
       "  DataValueUnit      DataValueType  ...  TopicID  QuestionID ResponseID  \\\n",
       "0        Number  Age-adjusted Mean  ...      HEA       HEA04        NaN   \n",
       "1        Number             Number  ...      CAN       CAN07        NaN   \n",
       "2        Number             Number  ...      CAN       CAN03        NaN   \n",
       "3        Number             Number  ...      CAN       CAN07        NaN   \n",
       "4        Number             Number  ...      CAN       CAN05        NaN   \n",
       "\n",
       "  DataValueTypeID  StratificationCategoryID1  StratificationID1  \\\n",
       "0      AGEADJMEAN                        SEX               SEXF   \n",
       "1            NMBR                        SEX               SEXM   \n",
       "2            NMBR                    OVERALL                OVR   \n",
       "3            NMBR                       RACE                HIS   \n",
       "4            NMBR                       RACE                WHT   \n",
       "\n",
       "  StratificationCategoryID2 StratificationID2  StratificationCategoryID3  \\\n",
       "0                       NaN               NaN                        NaN   \n",
       "1                       NaN               NaN                        NaN   \n",
       "2                       NaN               NaN                        NaN   \n",
       "3                       NaN               NaN                        NaN   \n",
       "4                       NaN               NaN                        NaN   \n",
       "\n",
       "   StratificationID3  \n",
       "0                NaN  \n",
       "1                NaN  \n",
       "2                NaN  \n",
       "3                NaN  \n",
       "4                NaN  \n",
       "\n",
       "[5 rows x 34 columns]"
      ],
      "text/html": [
       "<div>\n",
       "<style scoped>\n",
       "    .dataframe tbody tr th:only-of-type {\n",
       "        vertical-align: middle;\n",
       "    }\n",
       "\n",
       "    .dataframe tbody tr th {\n",
       "        vertical-align: top;\n",
       "    }\n",
       "\n",
       "    .dataframe thead th {\n",
       "        text-align: right;\n",
       "    }\n",
       "</style>\n",
       "<table border=\"1\" class=\"dataframe\">\n",
       "  <thead>\n",
       "    <tr style=\"text-align: right;\">\n",
       "      <th></th>\n",
       "      <th>YearStart</th>\n",
       "      <th>YearEnd</th>\n",
       "      <th>LocationAbbr</th>\n",
       "      <th>LocationDesc</th>\n",
       "      <th>DataSource</th>\n",
       "      <th>Topic</th>\n",
       "      <th>Question</th>\n",
       "      <th>Response</th>\n",
       "      <th>DataValueUnit</th>\n",
       "      <th>DataValueType</th>\n",
       "      <th>...</th>\n",
       "      <th>TopicID</th>\n",
       "      <th>QuestionID</th>\n",
       "      <th>ResponseID</th>\n",
       "      <th>DataValueTypeID</th>\n",
       "      <th>StratificationCategoryID1</th>\n",
       "      <th>StratificationID1</th>\n",
       "      <th>StratificationCategoryID2</th>\n",
       "      <th>StratificationID2</th>\n",
       "      <th>StratificationCategoryID3</th>\n",
       "      <th>StratificationID3</th>\n",
       "    </tr>\n",
       "  </thead>\n",
       "  <tbody>\n",
       "    <tr>\n",
       "      <th>0</th>\n",
       "      <td>2020</td>\n",
       "      <td>2020</td>\n",
       "      <td>US</td>\n",
       "      <td>United States</td>\n",
       "      <td>BRFSS</td>\n",
       "      <td>Health Status</td>\n",
       "      <td>Recent activity limitation among adults</td>\n",
       "      <td>NaN</td>\n",
       "      <td>Number</td>\n",
       "      <td>Age-adjusted Mean</td>\n",
       "      <td>...</td>\n",
       "      <td>HEA</td>\n",
       "      <td>HEA04</td>\n",
       "      <td>NaN</td>\n",
       "      <td>AGEADJMEAN</td>\n",
       "      <td>SEX</td>\n",
       "      <td>SEXF</td>\n",
       "      <td>NaN</td>\n",
       "      <td>NaN</td>\n",
       "      <td>NaN</td>\n",
       "      <td>NaN</td>\n",
       "    </tr>\n",
       "    <tr>\n",
       "      <th>1</th>\n",
       "      <td>2015</td>\n",
       "      <td>2019</td>\n",
       "      <td>AR</td>\n",
       "      <td>Arkansas</td>\n",
       "      <td>US Cancer DVT</td>\n",
       "      <td>Cancer</td>\n",
       "      <td>Invasive cancer (all sites combined), incidence</td>\n",
       "      <td>NaN</td>\n",
       "      <td>Number</td>\n",
       "      <td>Number</td>\n",
       "      <td>...</td>\n",
       "      <td>CAN</td>\n",
       "      <td>CAN07</td>\n",
       "      <td>NaN</td>\n",
       "      <td>NMBR</td>\n",
       "      <td>SEX</td>\n",
       "      <td>SEXM</td>\n",
       "      <td>NaN</td>\n",
       "      <td>NaN</td>\n",
       "      <td>NaN</td>\n",
       "      <td>NaN</td>\n",
       "    </tr>\n",
       "    <tr>\n",
       "      <th>2</th>\n",
       "      <td>2015</td>\n",
       "      <td>2019</td>\n",
       "      <td>CA</td>\n",
       "      <td>California</td>\n",
       "      <td>US Cancer DVT</td>\n",
       "      <td>Cancer</td>\n",
       "      <td>Cervical cancer mortality among all females, u...</td>\n",
       "      <td>NaN</td>\n",
       "      <td>Number</td>\n",
       "      <td>Number</td>\n",
       "      <td>...</td>\n",
       "      <td>CAN</td>\n",
       "      <td>CAN03</td>\n",
       "      <td>NaN</td>\n",
       "      <td>NMBR</td>\n",
       "      <td>OVERALL</td>\n",
       "      <td>OVR</td>\n",
       "      <td>NaN</td>\n",
       "      <td>NaN</td>\n",
       "      <td>NaN</td>\n",
       "      <td>NaN</td>\n",
       "    </tr>\n",
       "    <tr>\n",
       "      <th>3</th>\n",
       "      <td>2015</td>\n",
       "      <td>2019</td>\n",
       "      <td>CO</td>\n",
       "      <td>Colorado</td>\n",
       "      <td>US Cancer DVT</td>\n",
       "      <td>Cancer</td>\n",
       "      <td>Invasive cancer (all sites combined), incidence</td>\n",
       "      <td>NaN</td>\n",
       "      <td>Number</td>\n",
       "      <td>Number</td>\n",
       "      <td>...</td>\n",
       "      <td>CAN</td>\n",
       "      <td>CAN07</td>\n",
       "      <td>NaN</td>\n",
       "      <td>NMBR</td>\n",
       "      <td>RACE</td>\n",
       "      <td>HIS</td>\n",
       "      <td>NaN</td>\n",
       "      <td>NaN</td>\n",
       "      <td>NaN</td>\n",
       "      <td>NaN</td>\n",
       "    </tr>\n",
       "    <tr>\n",
       "      <th>4</th>\n",
       "      <td>2015</td>\n",
       "      <td>2019</td>\n",
       "      <td>GA</td>\n",
       "      <td>Georgia</td>\n",
       "      <td>US Cancer DVT</td>\n",
       "      <td>Cancer</td>\n",
       "      <td>Prostate cancer mortality among all males, und...</td>\n",
       "      <td>NaN</td>\n",
       "      <td>Number</td>\n",
       "      <td>Number</td>\n",
       "      <td>...</td>\n",
       "      <td>CAN</td>\n",
       "      <td>CAN05</td>\n",
       "      <td>NaN</td>\n",
       "      <td>NMBR</td>\n",
       "      <td>RACE</td>\n",
       "      <td>WHT</td>\n",
       "      <td>NaN</td>\n",
       "      <td>NaN</td>\n",
       "      <td>NaN</td>\n",
       "      <td>NaN</td>\n",
       "    </tr>\n",
       "  </tbody>\n",
       "</table>\n",
       "<p>5 rows × 34 columns</p>\n",
       "</div>"
      ]
     },
     "execution_count": 195,
     "metadata": {},
     "output_type": "execute_result"
    }
   ],
   "execution_count": 195
  },
  {
   "metadata": {
    "ExecuteTime": {
     "end_time": "2025-10-19T19:47:49.007636Z",
     "start_time": "2025-10-19T19:47:49.000606Z"
    }
   },
   "cell_type": "code",
   "source": "df.tail(3)",
   "id": "47feb47d926fcadf",
   "outputs": [
    {
     "data": {
      "text/plain": [
       "        YearStart  YearEnd LocationAbbr LocationDesc DataSource  \\\n",
       "309212       2022     2022           WI    Wisconsin      BRFSS   \n",
       "309213       2022     2022           VT      Vermont      BRFSS   \n",
       "309214       2022     2022           WA   Washington      BRFSS   \n",
       "\n",
       "                                Topic  \\\n",
       "309212                   Immunization   \n",
       "309213  Social Determinants of Health   \n",
       "309214                        Alcohol   \n",
       "\n",
       "                                                 Question  Response  \\\n",
       "309212  Pneumococcal vaccination among adults aged 65 ...       NaN   \n",
       "309213  Lack of health insurance among adults aged 18-...       NaN   \n",
       "309214             Binge drinking prevalence among adults       NaN   \n",
       "\n",
       "       DataValueUnit            DataValueType  ...  TopicID  QuestionID  \\\n",
       "309212             %         Crude Prevalence  ...      IMM       IMM04   \n",
       "309213             %         Crude Prevalence  ...     SDOH       SDH09   \n",
       "309214             %  Age-adjusted Prevalence  ...      ALC       ALC06   \n",
       "\n",
       "       ResponseID DataValueTypeID  StratificationCategoryID1  \\\n",
       "309212        NaN         CRDPREV                       RACE   \n",
       "309213        NaN         CRDPREV                       RACE   \n",
       "309214        NaN      AGEADJPREV                        SEX   \n",
       "\n",
       "        StratificationID1 StratificationCategoryID2 StratificationID2  \\\n",
       "309212                BLK                       NaN               NaN   \n",
       "309213               HAPI                       NaN               NaN   \n",
       "309214               SEXM                       NaN               NaN   \n",
       "\n",
       "        StratificationCategoryID3  StratificationID3  \n",
       "309212                        NaN                NaN  \n",
       "309213                        NaN                NaN  \n",
       "309214                        NaN                NaN  \n",
       "\n",
       "[3 rows x 34 columns]"
      ],
      "text/html": [
       "<div>\n",
       "<style scoped>\n",
       "    .dataframe tbody tr th:only-of-type {\n",
       "        vertical-align: middle;\n",
       "    }\n",
       "\n",
       "    .dataframe tbody tr th {\n",
       "        vertical-align: top;\n",
       "    }\n",
       "\n",
       "    .dataframe thead th {\n",
       "        text-align: right;\n",
       "    }\n",
       "</style>\n",
       "<table border=\"1\" class=\"dataframe\">\n",
       "  <thead>\n",
       "    <tr style=\"text-align: right;\">\n",
       "      <th></th>\n",
       "      <th>YearStart</th>\n",
       "      <th>YearEnd</th>\n",
       "      <th>LocationAbbr</th>\n",
       "      <th>LocationDesc</th>\n",
       "      <th>DataSource</th>\n",
       "      <th>Topic</th>\n",
       "      <th>Question</th>\n",
       "      <th>Response</th>\n",
       "      <th>DataValueUnit</th>\n",
       "      <th>DataValueType</th>\n",
       "      <th>...</th>\n",
       "      <th>TopicID</th>\n",
       "      <th>QuestionID</th>\n",
       "      <th>ResponseID</th>\n",
       "      <th>DataValueTypeID</th>\n",
       "      <th>StratificationCategoryID1</th>\n",
       "      <th>StratificationID1</th>\n",
       "      <th>StratificationCategoryID2</th>\n",
       "      <th>StratificationID2</th>\n",
       "      <th>StratificationCategoryID3</th>\n",
       "      <th>StratificationID3</th>\n",
       "    </tr>\n",
       "  </thead>\n",
       "  <tbody>\n",
       "    <tr>\n",
       "      <th>309212</th>\n",
       "      <td>2022</td>\n",
       "      <td>2022</td>\n",
       "      <td>WI</td>\n",
       "      <td>Wisconsin</td>\n",
       "      <td>BRFSS</td>\n",
       "      <td>Immunization</td>\n",
       "      <td>Pneumococcal vaccination among adults aged 65 ...</td>\n",
       "      <td>NaN</td>\n",
       "      <td>%</td>\n",
       "      <td>Crude Prevalence</td>\n",
       "      <td>...</td>\n",
       "      <td>IMM</td>\n",
       "      <td>IMM04</td>\n",
       "      <td>NaN</td>\n",
       "      <td>CRDPREV</td>\n",
       "      <td>RACE</td>\n",
       "      <td>BLK</td>\n",
       "      <td>NaN</td>\n",
       "      <td>NaN</td>\n",
       "      <td>NaN</td>\n",
       "      <td>NaN</td>\n",
       "    </tr>\n",
       "    <tr>\n",
       "      <th>309213</th>\n",
       "      <td>2022</td>\n",
       "      <td>2022</td>\n",
       "      <td>VT</td>\n",
       "      <td>Vermont</td>\n",
       "      <td>BRFSS</td>\n",
       "      <td>Social Determinants of Health</td>\n",
       "      <td>Lack of health insurance among adults aged 18-...</td>\n",
       "      <td>NaN</td>\n",
       "      <td>%</td>\n",
       "      <td>Crude Prevalence</td>\n",
       "      <td>...</td>\n",
       "      <td>SDOH</td>\n",
       "      <td>SDH09</td>\n",
       "      <td>NaN</td>\n",
       "      <td>CRDPREV</td>\n",
       "      <td>RACE</td>\n",
       "      <td>HAPI</td>\n",
       "      <td>NaN</td>\n",
       "      <td>NaN</td>\n",
       "      <td>NaN</td>\n",
       "      <td>NaN</td>\n",
       "    </tr>\n",
       "    <tr>\n",
       "      <th>309214</th>\n",
       "      <td>2022</td>\n",
       "      <td>2022</td>\n",
       "      <td>WA</td>\n",
       "      <td>Washington</td>\n",
       "      <td>BRFSS</td>\n",
       "      <td>Alcohol</td>\n",
       "      <td>Binge drinking prevalence among adults</td>\n",
       "      <td>NaN</td>\n",
       "      <td>%</td>\n",
       "      <td>Age-adjusted Prevalence</td>\n",
       "      <td>...</td>\n",
       "      <td>ALC</td>\n",
       "      <td>ALC06</td>\n",
       "      <td>NaN</td>\n",
       "      <td>AGEADJPREV</td>\n",
       "      <td>SEX</td>\n",
       "      <td>SEXM</td>\n",
       "      <td>NaN</td>\n",
       "      <td>NaN</td>\n",
       "      <td>NaN</td>\n",
       "      <td>NaN</td>\n",
       "    </tr>\n",
       "  </tbody>\n",
       "</table>\n",
       "<p>3 rows × 34 columns</p>\n",
       "</div>"
      ]
     },
     "execution_count": 196,
     "metadata": {},
     "output_type": "execute_result"
    }
   ],
   "execution_count": 196
  },
  {
   "metadata": {
    "ExecuteTime": {
     "end_time": "2025-10-19T19:47:49.726559Z",
     "start_time": "2025-10-19T19:47:49.724451Z"
    }
   },
   "cell_type": "code",
   "source": "",
   "id": "a6ec6386225bf3c7",
   "outputs": [],
   "execution_count": null
  },
  {
   "metadata": {
    "ExecuteTime": {
     "end_time": "2025-10-19T19:47:50.545579Z",
     "start_time": "2025-10-19T19:47:50.389578Z"
    }
   },
   "cell_type": "code",
   "source": "missing_values = df.isnull().sum() #check for missing values per columns",
   "id": "74743a258e26238e",
   "outputs": [],
   "execution_count": 197
  },
  {
   "metadata": {
    "ExecuteTime": {
     "end_time": "2025-10-19T19:47:50.965903Z",
     "start_time": "2025-10-19T19:47:50.961214Z"
    }
   },
   "cell_type": "code",
   "source": "missing_values",
   "id": "d53649eb74597a1e",
   "outputs": [
    {
     "data": {
      "text/plain": [
       "YearStart                         0\n",
       "YearEnd                           0\n",
       "LocationAbbr                      0\n",
       "LocationDesc                      0\n",
       "DataSource                        0\n",
       "Topic                             0\n",
       "Question                          0\n",
       "Response                     309215\n",
       "DataValueUnit                     0\n",
       "DataValueType                     0\n",
       "DataValue                    100019\n",
       "DataValueAlt                 100019\n",
       "DataValueFootnoteSymbol      207499\n",
       "DataValueFootnote            207499\n",
       "LowConfidenceLimit           120330\n",
       "HighConfidenceLimit          120325\n",
       "StratificationCategory1           0\n",
       "Stratification1                   0\n",
       "StratificationCategory2      309215\n",
       "Stratification2              309215\n",
       "StratificationCategory3      309215\n",
       "Stratification3              309215\n",
       "Geolocation                    5763\n",
       "LocationID                        0\n",
       "TopicID                           0\n",
       "QuestionID                        0\n",
       "ResponseID                   309215\n",
       "DataValueTypeID                   0\n",
       "StratificationCategoryID1         0\n",
       "StratificationID1                 0\n",
       "StratificationCategoryID2    309215\n",
       "StratificationID2            309215\n",
       "StratificationCategoryID3    309215\n",
       "StratificationID3            309215\n",
       "dtype: int64"
      ]
     },
     "execution_count": 198,
     "metadata": {},
     "output_type": "execute_result"
    }
   ],
   "execution_count": 198
  },
  {
   "metadata": {
    "ExecuteTime": {
     "end_time": "2025-10-19T19:47:52.689837Z",
     "start_time": "2025-10-19T19:47:52.686909Z"
    }
   },
   "cell_type": "code",
   "source": [
    "## COLUMNS ##\n",
    "#yearstart\n",
    "#yearend\n",
    "#locationAbbr //US\n",
    "#locationDec //United State\n",
    "#Topic // dissease reason\n",
    "#question  // that we can get out of every dissease\n",
    "#stratificationCategory1 // gender\n",
    "#stratificatio1 gender and etnicity\n"
   ],
   "id": "b2c9982ee11a18eb",
   "outputs": [],
   "execution_count": 199
  },
  {
   "metadata": {
    "ExecuteTime": {
     "end_time": "2025-10-19T19:47:53.271140Z",
     "start_time": "2025-10-19T19:47:53.257874Z"
    }
   },
   "cell_type": "code",
   "source": [
    "#eremove columns that wont be need it\n",
    "remove_columns = df[[\"YearStart\",\n",
    "               \"YearEnd\",\n",
    "               \"LocationAbbr\",\n",
    "               \"LocationDesc\",\n",
    "               \"Topic\",\n",
    "               \"Stratification1\",\n",
    "               \"DataValue\"\n",
    "\n",
    "               ]]"
   ],
   "id": "3ab28eab293e3aa",
   "outputs": [],
   "execution_count": 200
  },
  {
   "metadata": {
    "ExecuteTime": {
     "end_time": "2025-10-19T19:47:53.880852Z",
     "start_time": "2025-10-19T19:47:53.873666Z"
    }
   },
   "cell_type": "code",
   "source": "remove_columns.head(1) # check remove columns",
   "id": "989f3e332d48ce37",
   "outputs": [
    {
     "data": {
      "text/plain": [
       "   YearStart  YearEnd LocationAbbr   LocationDesc          Topic  \\\n",
       "0       2020     2020           US  United States  Health Status   \n",
       "\n",
       "  Stratification1  DataValue  \n",
       "0          Female        2.9  "
      ],
      "text/html": [
       "<div>\n",
       "<style scoped>\n",
       "    .dataframe tbody tr th:only-of-type {\n",
       "        vertical-align: middle;\n",
       "    }\n",
       "\n",
       "    .dataframe tbody tr th {\n",
       "        vertical-align: top;\n",
       "    }\n",
       "\n",
       "    .dataframe thead th {\n",
       "        text-align: right;\n",
       "    }\n",
       "</style>\n",
       "<table border=\"1\" class=\"dataframe\">\n",
       "  <thead>\n",
       "    <tr style=\"text-align: right;\">\n",
       "      <th></th>\n",
       "      <th>YearStart</th>\n",
       "      <th>YearEnd</th>\n",
       "      <th>LocationAbbr</th>\n",
       "      <th>LocationDesc</th>\n",
       "      <th>Topic</th>\n",
       "      <th>Stratification1</th>\n",
       "      <th>DataValue</th>\n",
       "    </tr>\n",
       "  </thead>\n",
       "  <tbody>\n",
       "    <tr>\n",
       "      <th>0</th>\n",
       "      <td>2020</td>\n",
       "      <td>2020</td>\n",
       "      <td>US</td>\n",
       "      <td>United States</td>\n",
       "      <td>Health Status</td>\n",
       "      <td>Female</td>\n",
       "      <td>2.9</td>\n",
       "    </tr>\n",
       "  </tbody>\n",
       "</table>\n",
       "</div>"
      ]
     },
     "execution_count": 201,
     "metadata": {},
     "output_type": "execute_result"
    }
   ],
   "execution_count": 201
  },
  {
   "metadata": {
    "ExecuteTime": {
     "end_time": "2025-10-19T19:47:54.433770Z",
     "start_time": "2025-10-19T19:47:54.431094Z"
    }
   },
   "cell_type": "code",
   "source": [
    "#TODO: rename columns\n",
    "#change LocationAbbr -> accronyms\n",
    "#chnage LocationDesc -> county\n",
    "#change Topic -> Cause\n",
    "#change Stratification1 -> gender\n"
   ],
   "id": "275756ad423ff616",
   "outputs": [],
   "execution_count": 202
  },
  {
   "metadata": {
    "ExecuteTime": {
     "end_time": "2025-10-19T19:47:55.230823Z",
     "start_time": "2025-10-19T19:47:55.218604Z"
    }
   },
   "cell_type": "code",
   "source": [
    "#change old column new with new column names\n",
    "final_df = remove_columns.rename(columns = {\n",
    "    \"YearStart\": \"start\",\n",
    "    \"YearEnd\": \"end\",\n",
    "    \"LocationAbbr\": \"accronyms\",\n",
    "    \"LocationDesc\": \"country\",\n",
    "    \"Topic\": \"cause\",\n",
    "    \"Stratification1\": \"etnicity/gender\",\n",
    "    \"DataValue\": \"data value\"\n",
    "\n",
    "})"
   ],
   "id": "f96b69ab7fb72f9b",
   "outputs": [],
   "execution_count": 203
  },
  {
   "metadata": {
    "ExecuteTime": {
     "end_time": "2025-10-19T19:47:55.769369Z",
     "start_time": "2025-10-19T19:47:55.763042Z"
    }
   },
   "cell_type": "code",
   "source": "final_df.head(1)",
   "id": "af1699e983268e17",
   "outputs": [
    {
     "data": {
      "text/plain": [
       "   start   end accronyms        country          cause etnicity/gender  \\\n",
       "0   2020  2020        US  United States  Health Status          Female   \n",
       "\n",
       "   data value  \n",
       "0         2.9  "
      ],
      "text/html": [
       "<div>\n",
       "<style scoped>\n",
       "    .dataframe tbody tr th:only-of-type {\n",
       "        vertical-align: middle;\n",
       "    }\n",
       "\n",
       "    .dataframe tbody tr th {\n",
       "        vertical-align: top;\n",
       "    }\n",
       "\n",
       "    .dataframe thead th {\n",
       "        text-align: right;\n",
       "    }\n",
       "</style>\n",
       "<table border=\"1\" class=\"dataframe\">\n",
       "  <thead>\n",
       "    <tr style=\"text-align: right;\">\n",
       "      <th></th>\n",
       "      <th>start</th>\n",
       "      <th>end</th>\n",
       "      <th>accronyms</th>\n",
       "      <th>country</th>\n",
       "      <th>cause</th>\n",
       "      <th>etnicity/gender</th>\n",
       "      <th>data value</th>\n",
       "    </tr>\n",
       "  </thead>\n",
       "  <tbody>\n",
       "    <tr>\n",
       "      <th>0</th>\n",
       "      <td>2020</td>\n",
       "      <td>2020</td>\n",
       "      <td>US</td>\n",
       "      <td>United States</td>\n",
       "      <td>Health Status</td>\n",
       "      <td>Female</td>\n",
       "      <td>2.9</td>\n",
       "    </tr>\n",
       "  </tbody>\n",
       "</table>\n",
       "</div>"
      ]
     },
     "execution_count": 204,
     "metadata": {},
     "output_type": "execute_result"
    }
   ],
   "execution_count": 204
  },
  {
   "metadata": {
    "ExecuteTime": {
     "end_time": "2025-10-19T19:47:56.423247Z",
     "start_time": "2025-10-19T19:47:56.401230Z"
    }
   },
   "cell_type": "code",
   "source": [
    "#total causes and nu\n",
    "print(final_df[\"cause\"].value_counts().sort_values(ascending=False))\n",
    "print(final_df[\"data value\"].mean())\n"
   ],
   "id": "a994adddf2fc56c0",
   "outputs": [
    {
     "name": "stdout",
     "output_type": "stream",
     "text": [
      "cause\n",
      "Cardiovascular Disease                             30709\n",
      "Chronic Obstructive Pulmonary Disease              26951\n",
      "Nutrition, Physical Activity, and Weight Status    26069\n",
      "Health Status                                      25612\n",
      "Alcohol                                            25321\n",
      "Cancer                                             22358\n",
      "Immunization                                       19140\n",
      "Social Determinants of Health                      19026\n",
      "Arthritis                                          18645\n",
      "Diabetes                                           17318\n",
      "Mental Health                                      16976\n",
      "Tobacco                                            15931\n",
      "Oral Health                                        13236\n",
      "Asthma                                             10511\n",
      "Cognitive Health and Caregiving                     9904\n",
      "Sleep                                               5318\n",
      "Disability                                          5060\n",
      "Maternal Health                                     1026\n",
      "Chronic Kidney Disease                               104\n",
      "Name: count, dtype: int64\n",
      "694.3568550067878\n"
     ]
    }
   ],
   "execution_count": 205
  },
  {
   "metadata": {
    "ExecuteTime": {
     "end_time": "2025-10-19T19:47:57.082109Z",
     "start_time": "2025-10-19T19:47:57.079560Z"
    }
   },
   "cell_type": "code",
   "source": [
    "##phase 2\n",
    "#TODO:\n",
    "#which health casue appear the most?\n",
    "#use a barchart to compare them\n",
    "#access to data value and compare them\n",
    "#visualize with a barchart"
   ],
   "id": "7c725548f5261cc",
   "outputs": [],
   "execution_count": 206
  },
  {
   "metadata": {
    "ExecuteTime": {
     "end_time": "2025-10-19T19:47:57.767472Z",
     "start_time": "2025-10-19T19:47:57.665479Z"
    }
   },
   "cell_type": "code",
   "source": [
    "counts = final_df[\"cause\"].value_counts().sort_values(ascending=False)\n",
    "\n",
    "plt.figure(figsize = (14, 7))\n",
    "plt.style.use(\"default\")\n",
    "counts.plot(kind=\"bar\")\n",
    "plt.title(\"Top 15 Chronic Disease Causes in U.S. Dataset\")\n",
    "plt.xlabel(\"Risk Factor\")\n",
    "plt.ylabel(\"Record Counts\")\n",
    "plt.xticks(rotation = 40, ha=\"right\")\n",
    "plt.grid(axis=\"y\", linestyle=\"--\", alpha=0.7) #LINES\n",
    "plt.tight_layout()\n",
    "plt.show()"
   ],
   "id": "409197337f8e22ae",
   "outputs": [
    {
     "data": {
      "text/plain": [
       "<Figure size 1400x700 with 1 Axes>"
      ],
      "image/png": "[encoded data removed]"
     },
     "metadata": {},
     "output_type": "display_data"
    }
   ],
   "execution_count": 207
  },
  {
   "metadata": {},
   "cell_type": "code",
   "outputs": [],
   "execution_count": null,
   "source": "",
   "id": "7be37dfcb602e47"
  }
 ],
 "metadata": {
  "kernelspec": {
   "display_name": "Python 3",
   "language": "python",
   "name": "python3"
  },
  "language_info": {
   "codemirror_mode": {
    "name": "ipython",
    "version": 2
   },
   "file_extension": ".py",
   "mimetype": "text/x-python",
   "name": "python",
   "nbconvert_exporter": "python",
   "pygments_lexer": "ipython2",
   "version": "2.7.6"
  }
 },
 "nbformat": 4,
 "nbformat_minor": 5
}
